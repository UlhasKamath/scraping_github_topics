{
 "cells": [
  {
   "cell_type": "markdown",
   "id": "9728aa6a",
   "metadata": {},
   "source": [
    " # Github Topics Repositories"
   ]
  },
  {
   "cell_type": "markdown",
   "id": "bebf0cd6",
   "metadata": {},
   "source": [
    "### Project Outline"
   ]
  },
  {
   "cell_type": "markdown",
   "id": "c0d000e9",
   "metadata": {},
   "source": [
    "- Scraping https://github.com/topics\n",
    "- Get a list of topics. For each topic, get topic title, topic page URL, and topic description\n",
    "- For each topic, get the top 25 repositories in the topic from the topic page\n",
    "- For each repository, grab the repo name, username, stars, and repo URL\n",
    "- For each topic create a CSV file"
   ]
  },
  {
   "cell_type": "markdown",
   "id": "ef48d1f2",
   "metadata": {},
   "source": [
    "### Download the web pages with requests"
   ]
  },
  {
   "cell_type": "code",
   "execution_count": 1,
   "id": "a36983ab",
   "metadata": {},
   "outputs": [],
   "source": [
    "import requests"
   ]
  },
  {
   "cell_type": "code",
   "execution_count": 2,
   "id": "6eb55f35",
   "metadata": {},
   "outputs": [],
   "source": [
    "topic_url = 'https://github.com/topics'"
   ]
  },
  {
   "cell_type": "code",
   "execution_count": 3,
   "id": "2db00b9c",
   "metadata": {},
   "outputs": [],
   "source": [
    "response = requests.get(topic_url)"
   ]
  },
  {
   "cell_type": "code",
   "execution_count": 4,
   "id": "6338edbe",
   "metadata": {},
   "outputs": [],
   "source": [
    "#response.status_code\n",
    "page_contents = response.text"
   ]
  },
  {
   "cell_type": "markdown",
   "id": "0ebbdb5b",
   "metadata": {},
   "source": [
    "### Parse and extract necessary data with Beautiful Soup"
   ]
  },
  {
   "cell_type": "code",
   "execution_count": 5,
   "id": "b7039cdb",
   "metadata": {},
   "outputs": [],
   "source": [
    "from bs4 import BeautifulSoup"
   ]
  },
  {
   "cell_type": "code",
   "execution_count": 6,
   "id": "dcb4685f",
   "metadata": {},
   "outputs": [],
   "source": [
    "doc = BeautifulSoup(page_contents, 'html.parser')"
   ]
  },
  {
   "cell_type": "markdown",
   "id": "09c23ae4",
   "metadata": {},
   "source": [
    "#### Extracting p tags for topic title"
   ]
  },
  {
   "cell_type": "code",
   "execution_count": 7,
   "id": "22cb91fa",
   "metadata": {},
   "outputs": [],
   "source": [
    "topic_class_selector = 'f3 lh-condensed mb-0 mt-1 Link--primary'\n",
    "topic_title_tags = doc.find_all('p', {'class' : topic_class_selector})"
   ]
  },
  {
   "cell_type": "code",
   "execution_count": 8,
   "id": "3b27063e",
   "metadata": {},
   "outputs": [
    {
     "data": {
      "text/plain": [
       "[<p class=\"f3 lh-condensed mb-0 mt-1 Link--primary\">3D</p>,\n",
       " <p class=\"f3 lh-condensed mb-0 mt-1 Link--primary\">Ajax</p>,\n",
       " <p class=\"f3 lh-condensed mb-0 mt-1 Link--primary\">Algorithm</p>,\n",
       " <p class=\"f3 lh-condensed mb-0 mt-1 Link--primary\">Amp</p>,\n",
       " <p class=\"f3 lh-condensed mb-0 mt-1 Link--primary\">Android</p>]"
      ]
     },
     "execution_count": 8,
     "metadata": {},
     "output_type": "execute_result"
    }
   ],
   "source": [
    "topic_title_tags[:5]"
   ]
  },
  {
   "cell_type": "markdown",
   "id": "84c7b19e",
   "metadata": {},
   "source": [
    "#### Extracting p tags for topic description"
   ]
  },
  {
   "cell_type": "code",
   "execution_count": 9,
   "id": "fa35f319",
   "metadata": {},
   "outputs": [],
   "source": [
    "topic_desc_selector = 'f5 color-fg-muted mb-0 mt-1'\n",
    "topic_desc_tags = doc.find_all('p', {'class' : topic_desc_selector})"
   ]
  },
  {
   "cell_type": "code",
   "execution_count": 10,
   "id": "8e745a16",
   "metadata": {},
   "outputs": [
    {
     "data": {
      "text/plain": [
       "[<p class=\"f5 color-fg-muted mb-0 mt-1\">\n",
       "           3D modeling is the process of virtually developing the surface and structure of a 3D object.\n",
       "         </p>,\n",
       " <p class=\"f5 color-fg-muted mb-0 mt-1\">\n",
       "           Ajax is a technique for creating interactive web applications.\n",
       "         </p>,\n",
       " <p class=\"f5 color-fg-muted mb-0 mt-1\">\n",
       "           Algorithms are self-contained sequences that carry out a variety of tasks.\n",
       "         </p>,\n",
       " <p class=\"f5 color-fg-muted mb-0 mt-1\">\n",
       "           Amp is a non-blocking concurrency library for PHP.\n",
       "         </p>,\n",
       " <p class=\"f5 color-fg-muted mb-0 mt-1\">\n",
       "           Android is an operating system built by Google designed for mobile devices.\n",
       "         </p>]"
      ]
     },
     "execution_count": 10,
     "metadata": {},
     "output_type": "execute_result"
    }
   ],
   "source": [
    "topic_desc_tags[:5]"
   ]
  },
  {
   "cell_type": "markdown",
   "id": "ce5e299e",
   "metadata": {},
   "source": [
    "#### Extracting a tags for topic url"
   ]
  },
  {
   "cell_type": "code",
   "execution_count": 11,
   "id": "800da177",
   "metadata": {},
   "outputs": [],
   "source": [
    "topic_url_selector = 'no-underline flex-1 d-flex flex-column'\n",
    "topic_url_tags = doc.find_all('a', {'class' : topic_url_selector})"
   ]
  },
  {
   "cell_type": "code",
   "execution_count": 12,
   "id": "90603f84",
   "metadata": {},
   "outputs": [
    {
     "name": "stdout",
     "output_type": "stream",
     "text": [
      "https://github.com/topics/3d\n"
     ]
    }
   ],
   "source": [
    "topic0_url = 'https://github.com' + topic_url_tags[0]['href']\n",
    "print(topic0_url)"
   ]
  },
  {
   "cell_type": "markdown",
   "id": "227353ae",
   "metadata": {},
   "source": [
    "#### Storing title, descriptions, and url in lists"
   ]
  },
  {
   "cell_type": "code",
   "execution_count": 13,
   "id": "e8295097",
   "metadata": {},
   "outputs": [
    {
     "name": "stdout",
     "output_type": "stream",
     "text": [
      "['3D', 'Ajax', 'Algorithm', 'Amp', 'Android', 'Angular', 'Ansible', 'API', 'Arduino', 'ASP.NET', 'Atom', 'Awesome Lists', 'Amazon Web Services', 'Azure', 'Babel', 'Bash', 'Bitcoin', 'Bootstrap', 'Bot', 'C', 'Chrome', 'Chrome extension', 'Command line interface', 'Clojure', 'Code quality', 'Code review', 'Compiler', 'Continuous integration', 'COVID-19', 'C++']\n"
     ]
    }
   ],
   "source": [
    "topic_titles = []\n",
    "\n",
    "for tag in topic_title_tags:\n",
    "    topic_titles.append(tag.text)\n",
    "\n",
    "print(topic_titles)"
   ]
  },
  {
   "cell_type": "code",
   "execution_count": 14,
   "id": "981e7ca5",
   "metadata": {},
   "outputs": [
    {
     "name": "stdout",
     "output_type": "stream",
     "text": [
      "['3D modeling is the process of virtually developing the surface and structure of a 3D object.', 'Ajax is a technique for creating interactive web applications.', 'Algorithms are self-contained sequences that carry out a variety of tasks.', 'Amp is a non-blocking concurrency library for PHP.', 'Android is an operating system built by Google designed for mobile devices.']\n"
     ]
    }
   ],
   "source": [
    "topic_desc = []\n",
    "\n",
    "for tag in topic_desc_tags:\n",
    "    topic_desc.append(tag.text.strip())\n",
    "\n",
    "print(topic_desc[:5])"
   ]
  },
  {
   "cell_type": "code",
   "execution_count": 15,
   "id": "57ac290d",
   "metadata": {},
   "outputs": [
    {
     "name": "stdout",
     "output_type": "stream",
     "text": [
      "['https://github.com/topics/3d', 'https://github.com/topics/ajax', 'https://github.com/topics/algorithm', 'https://github.com/topics/amphp', 'https://github.com/topics/android']\n"
     ]
    }
   ],
   "source": [
    "topic_urls = []\n",
    "base_url = 'https://github.com'\n",
    "\n",
    "for tag in topic_url_tags:\n",
    "    topic_urls.append(base_url + tag['href'])\n",
    "    \n",
    "print(topic_urls[:5])"
   ]
  },
  {
   "cell_type": "markdown",
   "id": "690806a7",
   "metadata": {},
   "source": [
    "#### Creating dataframe "
   ]
  },
  {
   "cell_type": "code",
   "execution_count": 16,
   "id": "4baac3ca",
   "metadata": {},
   "outputs": [],
   "source": [
    "import pandas as pd"
   ]
  },
  {
   "cell_type": "code",
   "execution_count": 17,
   "id": "637aa29a",
   "metadata": {},
   "outputs": [],
   "source": [
    "topic_dict = {\n",
    "    'Title' : topic_titles,\n",
    "    'Description' : topic_desc,\n",
    "    'URLs' : topic_urls\n",
    "}"
   ]
  },
  {
   "cell_type": "code",
   "execution_count": 18,
   "id": "4ae899aa",
   "metadata": {},
   "outputs": [],
   "source": [
    "topic_df = pd.DataFrame(topic_dict)"
   ]
  },
  {
   "cell_type": "code",
   "execution_count": 19,
   "id": "2de0a342",
   "metadata": {},
   "outputs": [
    {
     "data": {
      "text/html": [
       "<div>\n",
       "<style scoped>\n",
       "    .dataframe tbody tr th:only-of-type {\n",
       "        vertical-align: middle;\n",
       "    }\n",
       "\n",
       "    .dataframe tbody tr th {\n",
       "        vertical-align: top;\n",
       "    }\n",
       "\n",
       "    .dataframe thead th {\n",
       "        text-align: right;\n",
       "    }\n",
       "</style>\n",
       "<table border=\"1\" class=\"dataframe\">\n",
       "  <thead>\n",
       "    <tr style=\"text-align: right;\">\n",
       "      <th></th>\n",
       "      <th>Title</th>\n",
       "      <th>Description</th>\n",
       "      <th>URLs</th>\n",
       "    </tr>\n",
       "  </thead>\n",
       "  <tbody>\n",
       "    <tr>\n",
       "      <th>0</th>\n",
       "      <td>3D</td>\n",
       "      <td>3D modeling is the process of virtually develo...</td>\n",
       "      <td>https://github.com/topics/3d</td>\n",
       "    </tr>\n",
       "    <tr>\n",
       "      <th>1</th>\n",
       "      <td>Ajax</td>\n",
       "      <td>Ajax is a technique for creating interactive w...</td>\n",
       "      <td>https://github.com/topics/ajax</td>\n",
       "    </tr>\n",
       "    <tr>\n",
       "      <th>2</th>\n",
       "      <td>Algorithm</td>\n",
       "      <td>Algorithms are self-contained sequences that c...</td>\n",
       "      <td>https://github.com/topics/algorithm</td>\n",
       "    </tr>\n",
       "    <tr>\n",
       "      <th>3</th>\n",
       "      <td>Amp</td>\n",
       "      <td>Amp is a non-blocking concurrency library for ...</td>\n",
       "      <td>https://github.com/topics/amphp</td>\n",
       "    </tr>\n",
       "    <tr>\n",
       "      <th>4</th>\n",
       "      <td>Android</td>\n",
       "      <td>Android is an operating system built by Google...</td>\n",
       "      <td>https://github.com/topics/android</td>\n",
       "    </tr>\n",
       "  </tbody>\n",
       "</table>\n",
       "</div>"
      ],
      "text/plain": [
       "       Title                                        Description  \\\n",
       "0         3D  3D modeling is the process of virtually develo...   \n",
       "1       Ajax  Ajax is a technique for creating interactive w...   \n",
       "2  Algorithm  Algorithms are self-contained sequences that c...   \n",
       "3        Amp  Amp is a non-blocking concurrency library for ...   \n",
       "4    Android  Android is an operating system built by Google...   \n",
       "\n",
       "                                  URLs  \n",
       "0         https://github.com/topics/3d  \n",
       "1       https://github.com/topics/ajax  \n",
       "2  https://github.com/topics/algorithm  \n",
       "3      https://github.com/topics/amphp  \n",
       "4    https://github.com/topics/android  "
      ]
     },
     "execution_count": 19,
     "metadata": {},
     "output_type": "execute_result"
    }
   ],
   "source": [
    "topic_df.head()"
   ]
  },
  {
   "cell_type": "markdown",
   "id": "6562de2b",
   "metadata": {},
   "source": [
    "#### Creating CSV File"
   ]
  },
  {
   "cell_type": "code",
   "execution_count": 20,
   "id": "9e1066f7",
   "metadata": {},
   "outputs": [],
   "source": [
    "topic_df.to_csv('Topics.csv', index=False)"
   ]
  },
  {
   "cell_type": "markdown",
   "id": "134867b3",
   "metadata": {},
   "source": [
    "### Getting data from the repository pages"
   ]
  },
  {
   "cell_type": "code",
   "execution_count": 21,
   "id": "d8548e3f",
   "metadata": {},
   "outputs": [],
   "source": [
    "# function to convert stars in 'k' to actual value\n",
    "def star_count(star_str):\n",
    "    if star_str[-1] == 'k':\n",
    "        return int(float(star_str[:-1]) * 1000)\n",
    "    return (star_str)"
   ]
  },
  {
   "cell_type": "markdown",
   "id": "6ecac060",
   "metadata": {},
   "source": [
    "### Defining the functions"
   ]
  },
  {
   "cell_type": "code",
   "execution_count": 22,
   "id": "65a4529f",
   "metadata": {},
   "outputs": [],
   "source": [
    "def get_topic_page(topic_url):\n",
    "    # Download the page\n",
    "    response = requests.get(topic_url)\n",
    "    # Check successful response\n",
    "    if response.status_code != 200:\n",
    "        raise Exception('Failed to load page {}'.format(topic_url))\n",
    "    # Parse using Beautiful soup\n",
    "    topic_doc = BeautifulSoup(response.text, 'html.parser')\n",
    "    return topic_doc"
   ]
  },
  {
   "cell_type": "code",
   "execution_count": 23,
   "id": "a932ca0b",
   "metadata": {},
   "outputs": [],
   "source": [
    "def get_repo_info(h3_tag, star_tag):\n",
    "    #function to return info about repository\n",
    "    a_tags = h3_tag.find_all('a')\n",
    "    user_name = a_tags[0].text.strip()\n",
    "    repo_name = a_tags[1].text.strip()\n",
    "    repo_url_name = base_url + a_tags[1]['href']\n",
    "    number_stars = star_count(star_tag.text.strip())\n",
    "    return user_name, repo_name, repo_url_name, number_stars"
   ]
  },
  {
   "cell_type": "code",
   "execution_count": 24,
   "id": "6bac64a8",
   "metadata": {},
   "outputs": [],
   "source": [
    "def get_topic_repos(topic_doc):\n",
    "    # get h3 tags containing username, repo name, repo url\n",
    "    h3_tag_selector = 'f3 color-fg-muted text-normal lh-condensed'\n",
    "    repo_tags = topic_doc.find_all('h3', {'class' : h3_tag_selector})\n",
    "    \n",
    "    # get star tags containing number of stars\n",
    "    star_tag_selector = 'Counter js-social-count'\n",
    "    star_tags = topic_doc.find_all('span', {'class' : star_tag_selector})\n",
    "    \n",
    "    topics_dict = {\n",
    "    'username' : [],\n",
    "    'repo_name' : [],\n",
    "    'stars' : [],\n",
    "    'repo_url' : []\n",
    "    }\n",
    "\n",
    "    #loop to get repo info\n",
    "    for i in range(len(repo_tags)):\n",
    "        repo_info = get_repo_info(repo_tags[i], star_tags[i])\n",
    "        topics_dict['username'].append(repo_info[0])\n",
    "        topics_dict['repo_name'].append(repo_info[1])\n",
    "        topics_dict['repo_url'].append(repo_info[2])\n",
    "        topics_dict['stars'].append(repo_info[3])\n",
    "        \n",
    "    return pd.DataFrame(topics_dict)"
   ]
  },
  {
   "cell_type": "code",
   "execution_count": 25,
   "id": "5ac6ba64",
   "metadata": {},
   "outputs": [
    {
     "data": {
      "text/html": [
       "<div>\n",
       "<style scoped>\n",
       "    .dataframe tbody tr th:only-of-type {\n",
       "        vertical-align: middle;\n",
       "    }\n",
       "\n",
       "    .dataframe tbody tr th {\n",
       "        vertical-align: top;\n",
       "    }\n",
       "\n",
       "    .dataframe thead th {\n",
       "        text-align: right;\n",
       "    }\n",
       "</style>\n",
       "<table border=\"1\" class=\"dataframe\">\n",
       "  <thead>\n",
       "    <tr style=\"text-align: right;\">\n",
       "      <th></th>\n",
       "      <th>username</th>\n",
       "      <th>repo_name</th>\n",
       "      <th>stars</th>\n",
       "      <th>repo_url</th>\n",
       "    </tr>\n",
       "  </thead>\n",
       "  <tbody>\n",
       "    <tr>\n",
       "      <th>0</th>\n",
       "      <td>jwasham</td>\n",
       "      <td>coding-interview-university</td>\n",
       "      <td>238000</td>\n",
       "      <td>https://github.com/jwasham/coding-interview-un...</td>\n",
       "    </tr>\n",
       "    <tr>\n",
       "      <th>1</th>\n",
       "      <td>CyC2018</td>\n",
       "      <td>CS-Notes</td>\n",
       "      <td>158000</td>\n",
       "      <td>https://github.com/CyC2018/CS-Notes</td>\n",
       "    </tr>\n",
       "    <tr>\n",
       "      <th>2</th>\n",
       "      <td>trekhleb</td>\n",
       "      <td>javascript-algorithms</td>\n",
       "      <td>154000</td>\n",
       "      <td>https://github.com/trekhleb/javascript-algorithms</td>\n",
       "    </tr>\n",
       "    <tr>\n",
       "      <th>3</th>\n",
       "      <td>TheAlgorithms</td>\n",
       "      <td>Python</td>\n",
       "      <td>148000</td>\n",
       "      <td>https://github.com/TheAlgorithms/Python</td>\n",
       "    </tr>\n",
       "    <tr>\n",
       "      <th>4</th>\n",
       "      <td>yangshun</td>\n",
       "      <td>tech-interview-handbook</td>\n",
       "      <td>81800</td>\n",
       "      <td>https://github.com/yangshun/tech-interview-han...</td>\n",
       "    </tr>\n",
       "    <tr>\n",
       "      <th>5</th>\n",
       "      <td>kdn251</td>\n",
       "      <td>interviews</td>\n",
       "      <td>58600</td>\n",
       "      <td>https://github.com/kdn251/interviews</td>\n",
       "    </tr>\n",
       "    <tr>\n",
       "      <th>6</th>\n",
       "      <td>azl397985856</td>\n",
       "      <td>leetcode</td>\n",
       "      <td>49800</td>\n",
       "      <td>https://github.com/azl397985856/leetcode</td>\n",
       "    </tr>\n",
       "    <tr>\n",
       "      <th>7</th>\n",
       "      <td>TheAlgorithms</td>\n",
       "      <td>Java</td>\n",
       "      <td>48900</td>\n",
       "      <td>https://github.com/TheAlgorithms/Java</td>\n",
       "    </tr>\n",
       "    <tr>\n",
       "      <th>8</th>\n",
       "      <td>algorithm-visualizer</td>\n",
       "      <td>algorithm-visualizer</td>\n",
       "      <td>40200</td>\n",
       "      <td>https://github.com/algorithm-visualizer/algori...</td>\n",
       "    </tr>\n",
       "    <tr>\n",
       "      <th>9</th>\n",
       "      <td>youngyangyang04</td>\n",
       "      <td>leetcode-master</td>\n",
       "      <td>33200</td>\n",
       "      <td>https://github.com/youngyangyang04/leetcode-ma...</td>\n",
       "    </tr>\n",
       "    <tr>\n",
       "      <th>10</th>\n",
       "      <td>halfrost</td>\n",
       "      <td>LeetCode-Go</td>\n",
       "      <td>28100</td>\n",
       "      <td>https://github.com/halfrost/LeetCode-Go</td>\n",
       "    </tr>\n",
       "    <tr>\n",
       "      <th>11</th>\n",
       "      <td>crossoverJie</td>\n",
       "      <td>JCSprout</td>\n",
       "      <td>26900</td>\n",
       "      <td>https://github.com/crossoverJie/JCSprout</td>\n",
       "    </tr>\n",
       "    <tr>\n",
       "      <th>12</th>\n",
       "      <td>huihut</td>\n",
       "      <td>interview</td>\n",
       "      <td>26500</td>\n",
       "      <td>https://github.com/huihut/interview</td>\n",
       "    </tr>\n",
       "    <tr>\n",
       "      <th>13</th>\n",
       "      <td>donnemartin</td>\n",
       "      <td>interactive-coding-challenges</td>\n",
       "      <td>26500</td>\n",
       "      <td>https://github.com/donnemartin/interactive-cod...</td>\n",
       "    </tr>\n",
       "    <tr>\n",
       "      <th>14</th>\n",
       "      <td>TheAlgorithms</td>\n",
       "      <td>JavaScript</td>\n",
       "      <td>23700</td>\n",
       "      <td>https://github.com/TheAlgorithms/JavaScript</td>\n",
       "    </tr>\n",
       "    <tr>\n",
       "      <th>15</th>\n",
       "      <td>TheAlgorithms</td>\n",
       "      <td>C-Plus-Plus</td>\n",
       "      <td>22300</td>\n",
       "      <td>https://github.com/TheAlgorithms/C-Plus-Plus</td>\n",
       "    </tr>\n",
       "    <tr>\n",
       "      <th>16</th>\n",
       "      <td>keon</td>\n",
       "      <td>algorithms</td>\n",
       "      <td>21800</td>\n",
       "      <td>https://github.com/keon/algorithms</td>\n",
       "    </tr>\n",
       "    <tr>\n",
       "      <th>17</th>\n",
       "      <td>trekhleb</td>\n",
       "      <td>homemade-machine-learning</td>\n",
       "      <td>20400</td>\n",
       "      <td>https://github.com/trekhleb/homemade-machine-l...</td>\n",
       "    </tr>\n",
       "    <tr>\n",
       "      <th>18</th>\n",
       "      <td>mxgmn</td>\n",
       "      <td>WaveFunctionCollapse</td>\n",
       "      <td>20200</td>\n",
       "      <td>https://github.com/mxgmn/WaveFunctionCollapse</td>\n",
       "    </tr>\n",
       "    <tr>\n",
       "      <th>19</th>\n",
       "      <td>AtsushiSakai</td>\n",
       "      <td>PythonRobotics</td>\n",
       "      <td>16700</td>\n",
       "      <td>https://github.com/AtsushiSakai/PythonRobotics</td>\n",
       "    </tr>\n",
       "  </tbody>\n",
       "</table>\n",
       "</div>"
      ],
      "text/plain": [
       "                username                      repo_name   stars  \\\n",
       "0                jwasham    coding-interview-university  238000   \n",
       "1                CyC2018                       CS-Notes  158000   \n",
       "2               trekhleb          javascript-algorithms  154000   \n",
       "3          TheAlgorithms                         Python  148000   \n",
       "4               yangshun        tech-interview-handbook   81800   \n",
       "5                 kdn251                     interviews   58600   \n",
       "6           azl397985856                       leetcode   49800   \n",
       "7          TheAlgorithms                           Java   48900   \n",
       "8   algorithm-visualizer           algorithm-visualizer   40200   \n",
       "9        youngyangyang04                leetcode-master   33200   \n",
       "10              halfrost                    LeetCode-Go   28100   \n",
       "11          crossoverJie                       JCSprout   26900   \n",
       "12                huihut                      interview   26500   \n",
       "13           donnemartin  interactive-coding-challenges   26500   \n",
       "14         TheAlgorithms                     JavaScript   23700   \n",
       "15         TheAlgorithms                    C-Plus-Plus   22300   \n",
       "16                  keon                     algorithms   21800   \n",
       "17              trekhleb      homemade-machine-learning   20400   \n",
       "18                 mxgmn           WaveFunctionCollapse   20200   \n",
       "19          AtsushiSakai                 PythonRobotics   16700   \n",
       "\n",
       "                                             repo_url  \n",
       "0   https://github.com/jwasham/coding-interview-un...  \n",
       "1                 https://github.com/CyC2018/CS-Notes  \n",
       "2   https://github.com/trekhleb/javascript-algorithms  \n",
       "3             https://github.com/TheAlgorithms/Python  \n",
       "4   https://github.com/yangshun/tech-interview-han...  \n",
       "5                https://github.com/kdn251/interviews  \n",
       "6            https://github.com/azl397985856/leetcode  \n",
       "7               https://github.com/TheAlgorithms/Java  \n",
       "8   https://github.com/algorithm-visualizer/algori...  \n",
       "9   https://github.com/youngyangyang04/leetcode-ma...  \n",
       "10            https://github.com/halfrost/LeetCode-Go  \n",
       "11           https://github.com/crossoverJie/JCSprout  \n",
       "12                https://github.com/huihut/interview  \n",
       "13  https://github.com/donnemartin/interactive-cod...  \n",
       "14        https://github.com/TheAlgorithms/JavaScript  \n",
       "15       https://github.com/TheAlgorithms/C-Plus-Plus  \n",
       "16                 https://github.com/keon/algorithms  \n",
       "17  https://github.com/trekhleb/homemade-machine-l...  \n",
       "18      https://github.com/mxgmn/WaveFunctionCollapse  \n",
       "19     https://github.com/AtsushiSakai/PythonRobotics  "
      ]
     },
     "execution_count": 25,
     "metadata": {},
     "output_type": "execute_result"
    }
   ],
   "source": [
    "get_topic_repos(get_topic_page(topic_urls[2]))"
   ]
  },
  {
   "cell_type": "code",
   "execution_count": 26,
   "id": "eff55e4a",
   "metadata": {},
   "outputs": [],
   "source": [
    "get_topic_repos(get_topic_page(topic_urls[1])).to_csv('Ajax.csv', index=None)"
   ]
  },
  {
   "cell_type": "code",
   "execution_count": 27,
   "id": "c4f7a9ac",
   "metadata": {},
   "outputs": [],
   "source": [
    "get_topic_repos(get_topic_page(topic_urls[4])).to_csv('Android.csv', index=None)"
   ]
  }
 ],
 "metadata": {
  "kernelspec": {
   "display_name": "Python 3 (ipykernel)",
   "language": "python",
   "name": "python3"
  },
  "language_info": {
   "codemirror_mode": {
    "name": "ipython",
    "version": 3
   },
   "file_extension": ".py",
   "mimetype": "text/x-python",
   "name": "python",
   "nbconvert_exporter": "python",
   "pygments_lexer": "ipython3",
   "version": "3.10.4"
  }
 },
 "nbformat": 4,
 "nbformat_minor": 5
}
